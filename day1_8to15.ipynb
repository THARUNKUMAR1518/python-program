{
  "nbformat": 4,
  "nbformat_minor": 0,
  "metadata": {
    "colab": {
      "provenance": [],
      "authorship_tag": "ABX9TyO6zCYpB0VHau3a5qf9BNF4",
      "include_colab_link": true
    },
    "kernelspec": {
      "name": "python3",
      "display_name": "Python 3"
    },
    "language_info": {
      "name": "python"
    }
  },
  "cells": [
    {
      "cell_type": "markdown",
      "metadata": {
        "id": "view-in-github",
        "colab_type": "text"
      },
      "source": [
        "<a href=\"https://colab.research.google.com/github/THARUNKUMAR1518/python-program/blob/main/day1_8to15.ipynb\" target=\"_parent\"><img src=\"https://colab.research.google.com/assets/colab-badge.svg\" alt=\"Open In Colab\"/></a>"
      ]
    },
    {
      "cell_type": "code",
      "execution_count": null,
      "metadata": {
        "colab": {
          "base_uri": "https://localhost:8080/"
        },
        "id": "Sh0mt7uVh_OV",
        "outputId": "3fbb79f8-d15a-4091-d1ce-2226d3a221dc"
      },
      "outputs": [
        {
          "output_type": "stream",
          "name": "stdout",
          "text": [
            "10000\n",
            "5\n",
            "The bonus is  1000\n"
          ]
        }
      ],
      "source": [
        "s=int(input())\n",
        "e=int(input())\n",
        "if(e<=2):\n",
        "    print(\"No bonus\")\n",
        "if(e<2 and e>=4):\n",
        "    print(\"The bonus is \",int(s*(4/100)))\n",
        "elif(e<4 and a>=8):\n",
        "    print(\"The bonus is \",int(s*(7/100)))\n",
        "else:\n",
        "    print(\"The bonus is \",int(s*(10/100)))\n"
      ]
    },
    {
      "cell_type": "code",
      "source": [
        "x=int(input(\"Enter the units : \"))\n",
        "if(x<=100):\n",
        "    print(\"no charge\")\n",
        "elif(x<200 and x>=200):\n",
        "    print(\"Charge : \",x*5)\n",
        "else:\n",
        "    print(\"Charge : \",((x-200)*10)+500)\n"
      ],
      "metadata": {
        "colab": {
          "base_uri": "https://localhost:8080/"
        },
        "id": "mkYJrsf1iioO",
        "outputId": "d7c97eee-3538-4df2-c951-7f17dc7fff2b"
      },
      "execution_count": null,
      "outputs": [
        {
          "output_type": "stream",
          "name": "stdout",
          "text": [
            "Enter the units : 350\n",
            "Charge :  2000\n"
          ]
        }
      ]
    },
    {
      "cell_type": "code",
      "source": [
        "pri=int(input())\n",
        "if(pri>10000):\n",
        "    print(pri-(pri*(20/100)))\n",
        "elif(pri>7000 and pri<=10000):\n",
        "    print(pri-(pri*(15/100)))\n",
        "else:\n",
        "    print(pri-(pri*(10/100)))\n"
      ],
      "metadata": {
        "colab": {
          "base_uri": "https://localhost:8080/"
        },
        "id": "heF03wbqioJM",
        "outputId": "e7c8599e-1ac0-419a-de98-c4d14943e216"
      },
      "execution_count": null,
      "outputs": [
        {
          "output_type": "stream",
          "name": "stdout",
          "text": [
            "10000\n",
            "8500.0\n"
          ]
        }
      ]
    },
    {
      "cell_type": "code",
      "source": [
        "a=int(input())\n",
        "b=int(a/2)\n",
        "c=0\n",
        "for i in range(2,b):\n",
        "    if a%i==0:\n",
        "        print(\"its not a prime number\")\n",
        "        break\n",
        "    else:\n",
        "        c=1\n",
        "if c==1:\n",
        "    print(\"its a prime number\")\n"
      ],
      "metadata": {
        "colab": {
          "base_uri": "https://localhost:8080/"
        },
        "id": "RkArOhYeiun0",
        "outputId": "e5224d20-075c-4b36-8aa6-7e5529019036"
      },
      "execution_count": null,
      "outputs": [
        {
          "output_type": "stream",
          "name": "stdout",
          "text": [
            "10\n",
            "its not a prime number\n"
          ]
        }
      ]
    },
    {
      "cell_type": "code",
      "source": [
        "a=int(input())\n",
        "c=1\n",
        "for i in range(2,a):\n",
        "    for j in range(2,(i//2)+1):\n",
        "        if i%j==0:\n",
        "            c=0\n",
        "            break\n",
        "        else:\n",
        "            c=1\n",
        "    if c==1:\n",
        "        print(i,end=\"\")\n",
        "print()\n"
      ],
      "metadata": {
        "colab": {
          "base_uri": "https://localhost:8080/"
        },
        "id": "5oH4eGhsizls",
        "outputId": "e0bc91bc-2ef0-4d9e-da25-d35645fe9f5b"
      },
      "execution_count": null,
      "outputs": [
        {
          "output_type": "stream",
          "name": "stdout",
          "text": [
            "10\n",
            "2357\n"
          ]
        }
      ]
    },
    {
      "cell_type": "code",
      "source": [
        "x=int(input())\n",
        "while(x!=0):\n",
        "    y=x%10\n",
        "    x=x//10\n",
        "    print(y,end=\"\")\n"
      ],
      "metadata": {
        "colab": {
          "base_uri": "https://localhost:8080/"
        },
        "id": "CbaHhiimi7cz",
        "outputId": "5cb3a57e-c846-4778-b31c-6f55a8f7f019"
      },
      "execution_count": null,
      "outputs": [
        {
          "output_type": "stream",
          "name": "stdout",
          "text": [
            "1234\n",
            "4321"
          ]
        }
      ]
    },
    {
      "cell_type": "code",
      "source": [
        "for i in range(5):\n",
        "    for j in range(4-i):\n",
        "        print(\" \",end=' ')\n",
        "    for k in range(i+1):\n",
        "        print(\"*\",end=' ')\n",
        "    for l in range(i):\n",
        "        print(\"*\",end=' ')\n",
        "    for m in range(4-i):\n",
        "        print(\"  \",end=' ')\n",
        "    print()\n"
      ],
      "metadata": {
        "colab": {
          "base_uri": "https://localhost:8080/"
        },
        "id": "Fkt_xk4ljABM",
        "outputId": "31fb9860-9b7b-4a8f-c36a-a015fbe9ebb2"
      },
      "execution_count": null,
      "outputs": [
        {
          "output_type": "stream",
          "name": "stdout",
          "text": [
            "        *             \n",
            "      * * *          \n",
            "    * * * * *       \n",
            "  * * * * * * *    \n",
            "* * * * * * * * * \n"
          ]
        }
      ]
    },
    {
      "cell_type": "code",
      "source": [
        "a=int(input())\n",
        "b,c=0,1\n",
        "for i in range(0,a):\n",
        "    print(b,end=' ')\n",
        "    d=b+c\n",
        "    b=c\n",
        "    c=d\n"
      ],
      "metadata": {
        "colab": {
          "base_uri": "https://localhost:8080/"
        },
        "id": "r_wxxfrKjbAD",
        "outputId": "f08d1bdb-d4cc-4f1f-8be9-c4f1b34b4bdb"
      },
      "execution_count": null,
      "outputs": [
        {
          "output_type": "stream",
          "name": "stdout",
          "text": [
            "5\n",
            "0 1 1 2 3 "
          ]
        }
      ]
    }
  ]
}