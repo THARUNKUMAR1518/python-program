{
  "nbformat": 4,
  "nbformat_minor": 0,
  "metadata": {
    "colab": {
      "provenance": [],
      "authorship_tag": "ABX9TyOnlviCxr5JQoczzq9tC58D",
      "include_colab_link": true
    },
    "kernelspec": {
      "name": "python3",
      "display_name": "Python 3"
    },
    "language_info": {
      "name": "python"
    }
  },
  "cells": [
    {
      "cell_type": "markdown",
      "metadata": {
        "id": "view-in-github",
        "colab_type": "text"
      },
      "source": [
        "<a href=\"https://colab.research.google.com/github/THARUNKUMAR1518/python-program/blob/main/Day_2_All_qutions.ipynb\" target=\"_parent\"><img src=\"https://colab.research.google.com/assets/colab-badge.svg\" alt=\"Open In Colab\"/></a>"
      ]
    },
    {
      "cell_type": "code",
      "execution_count": null,
      "metadata": {
        "colab": {
          "base_uri": "https://localhost:8080/"
        },
        "id": "hRIKSR2ik440",
        "outputId": "287150de-820b-4591-d7f2-5c53f18335d8"
      },
      "outputs": [
        {
          "output_type": "stream",
          "name": "stdout",
          "text": [
            "Even=[2, 4, 6, 8, 10]\n",
            "Evensquare=[4, 16, 36, 64, 100]\n",
            "Odd=[1, 3, 5, 7, 9]\n",
            "Oddsquare=[1, 9, 25, 49, 81]\n"
          ]
        }
      ],
      "source": [
        "a=[1,2,3,4,5,6,7,8,9,10]\n",
        "e=[]\n",
        "o=[]\n",
        "es=[]\n",
        "osq=[]\n",
        "for i in a:\n",
        "  if i%2==0:\n",
        "    e.append(i)\n",
        "    es.append(pow(i,2))\n",
        "  else:\n",
        "    o.append(i)\n",
        "    osq.append(pow(i,2))\n",
        "print(f\"Even={e}\\nEvensquare={es}\\nOdd={o}\\nOddsquare={osq}\")"
      ]
    },
    {
      "cell_type": "code",
      "source": [
        "x = [5, 3, 9, 2, 1, 8, 4]\n",
        "l = numbers[0]\n",
        "s= numbers[0]\n",
        "\n",
        "for num in x:\n",
        "    if num > l:\n",
        "        l = num\n",
        "    elif num < s:\n",
        "        s = num\n",
        "\n",
        "print(\"Largest number:\", l)\n",
        "print(\"Smallest number:\", s)\n"
      ],
      "metadata": {
        "colab": {
          "base_uri": "https://localhost:8080/"
        },
        "id": "DSnpUIZelIxD",
        "outputId": "59c105e7-ad47-4cc1-d2a8-1f380f612348"
      },
      "execution_count": null,
      "outputs": [
        {
          "output_type": "stream",
          "name": "stdout",
          "text": [
            "Largest number: 9\n",
            "Smallest number: 1\n"
          ]
        }
      ]
    },
    {
      "cell_type": "code",
      "source": [
        "numbers = [12, 45, 2, 41, 31, 10, 8, 6]\n",
        "\n",
        "l = sl = float('-inf')\n",
        "s = ss = float('inf')\n",
        "\n",
        "for num in numbers:\n",
        "    if num > l:\n",
        "        sl = l\n",
        "        l = num\n",
        "    elif num > sl and num != l:\n",
        "        sl = num\n",
        "\n",
        "    if num < s:\n",
        "        ss = s\n",
        "        s = num\n",
        "    elif num < ss and num != s:\n",
        "        ss = num\n",
        "\n",
        "print(\"Second largest number:\", sl)\n",
        "print(\"Second smallest number:\", ss)\n",
        "\n"
      ],
      "metadata": {
        "colab": {
          "base_uri": "https://localhost:8080/"
        },
        "id": "2FiMGcnUmmPs",
        "outputId": "9c545ab4-5be6-4299-be88-00186296c69e"
      },
      "execution_count": null,
      "outputs": [
        {
          "output_type": "stream",
          "name": "stdout",
          "text": [
            "Second largest number: 41\n",
            "Second smallest number: 6\n"
          ]
        }
      ]
    },
    {
      "cell_type": "code",
      "source": [
        "n = [12, 45, 2, 41, 31, 10, 8, 6]\n",
        "\n",
        "ai =n.copy()\n",
        "for i in range(len(ai)):\n",
        "    for j in range(i + 1, len(ai)):\n",
        "        if ai[i] > ai[j]:\n",
        "            ai[i], ai[j] = ai[j], ai[i]\n",
        "\n",
        "das =n.copy()\n",
        "for i in range(len(das)):\n",
        "    for j in range(i + 1, len(das)):\n",
        "        if das[i] < das[j]:\n",
        "            das[i], das[j] = das[j], das[i]\n",
        "\n",
        "print(\"Ascending order:\", ai)\n",
        "print(\"Descending order:\", das)\n",
        "\n"
      ],
      "metadata": {
        "colab": {
          "base_uri": "https://localhost:8080/"
        },
        "id": "17pKHVFIp5kv",
        "outputId": "fd19cf56-cdc0-4368-e386-3183d5d260e9"
      },
      "execution_count": null,
      "outputs": [
        {
          "output_type": "stream",
          "name": "stdout",
          "text": [
            "Ascending order: [2, 6, 8, 10, 12, 31, 41, 45]\n",
            "Descending order: [45, 41, 31, 12, 10, 8, 6, 2]\n"
          ]
        }
      ]
    },
    {
      "cell_type": "code",
      "source": [
        "a = [45, 67, 83, 24, 55, 87, 77, 34]\n",
        "\n",
        "n = int(input())\n",
        "p = 0\n",
        "\n",
        "for i in range(len(a)):\n",
        "    if a[i] == n:\n",
        "        p = i\n",
        "if(p!=0):\n",
        "    print(\"Position of\", n, \"is:\", p)\n",
        "else:\n",
        "    print(\"Number\", n, \"is not in the list.\")\n",
        "\n"
      ],
      "metadata": {
        "colab": {
          "base_uri": "https://localhost:8080/"
        },
        "id": "Z08rq74Ksbr_",
        "outputId": "6280b99f-3808-4375-cbf4-19141aab6e68"
      },
      "execution_count": null,
      "outputs": [
        {
          "output_type": "stream",
          "name": "stdout",
          "text": [
            "55\n",
            "Position of 55 is: 4\n"
          ]
        }
      ]
    },
    {
      "cell_type": "code",
      "source": [
        "a = [4, 5, 6, 4, 6, 7, 4, 2, 4, 8, 4]\n",
        "f = {}\n",
        "m = None\n",
        "max = 0\n",
        "for num in a:\n",
        "    if num in f:\n",
        "        f[num] += 1\n",
        "    else:\n",
        "        f[num] = 1\n",
        "\n",
        "    if f[num] > max:\n",
        "        max = f[num]\n",
        "        mf = num\n",
        "print(\"Most frequent element:\", mf)\n"
      ],
      "metadata": {
        "colab": {
          "base_uri": "https://localhost:8080/"
        },
        "id": "MirFQC15t_eG",
        "outputId": "6e14b2d8-9b8c-46ee-dad4-cfd6f55245f3"
      },
      "execution_count": null,
      "outputs": [
        {
          "output_type": "stream",
          "name": "stdout",
          "text": [
            "Most frequent element: 4\n"
          ]
        }
      ]
    },
    {
      "cell_type": "code",
      "source": [
        "keys = ['Ten', 'Twenty', 'Thirty']\n",
        "values = [10, 20, 30]\n",
        "\n",
        "r = {}\n",
        "\n",
        "for i in range(len(keys)):\n",
        "    r.update({keys[i]: values[i]})\n",
        "\n",
        "print(\"Resulting dictionary:\", r)\n"
      ],
      "metadata": {
        "colab": {
          "base_uri": "https://localhost:8080/"
        },
        "id": "VjVU6M4YvU_9",
        "outputId": "771156cc-4390-447f-d9bc-dc3935a6e7b4"
      },
      "execution_count": null,
      "outputs": [
        {
          "output_type": "stream",
          "name": "stdout",
          "text": [
            "Resulting dictionary: {'Ten': 10, 'Twenty': 20, 'Thirty': 30}\n"
          ]
        }
      ]
    },
    {
      "cell_type": "code",
      "source": [
        "a=[\"A\",\"B\",\"C\",\"n\"]\n",
        "c=[0,0,0,0]\n",
        "v=['a','b','c','d','e','f','g','h','i','j']\n",
        "aa=[]\n",
        "bb=[]\n",
        "cc=[]\n",
        "n=[]\n",
        "bruh=[aa,bb,cc,n]\n",
        "print(\"To vote A press 1\\nTo vote B press 2\\nTo vote C press 3\\nTo vote none press 4\")\n",
        "for i in v:\n",
        "  w=int(input(f\"Please make ur vote {i} :\"))\n",
        "  if(w==1):\n",
        "    aa.append(i)\n",
        "    c[0]+=1\n",
        "  elif(w==2):\n",
        "    bb.append(i)\n",
        "    c[1]+=1\n",
        "  elif(w==3):\n",
        "    cc.append(i)\n",
        "  elif(w==4):\n",
        "    n.append(i)\n",
        "  else:\n",
        "    print(\"Make sure u Enter crt option next time :)\")\n",
        "m=0\n",
        "for i in range(4):\n",
        "  if(m<c[i]):\n",
        "    m=c[i]\n",
        "for i in range(4):\n",
        "  if(m==c[i]):\n",
        "    print(\"The winner is\",a[i],\"with\",c[i],\"votes\")\n",
        "    print(bruh[i])\n",
        "    c[i]=0\n",
        "    break\n",
        "sm=0\n",
        "for i in range(4):\n",
        "  if(sm<c[i]):\n",
        "    sm=c[i]\n",
        "for i in range(4):\n",
        "  if(sm==c[i]):\n",
        "    print(\"The Runner is\",a[i],\"with\",c[i],\"votes\")\n",
        "    print(bruh[i])\n",
        "\n",
        "\n"
      ],
      "metadata": {
        "colab": {
          "base_uri": "https://localhost:8080/"
        },
        "id": "BmtMLW9b3Zft",
        "outputId": "36aab722-b8b9-4fb8-e484-ea038f56e8ed"
      },
      "execution_count": null,
      "outputs": [
        {
          "output_type": "stream",
          "name": "stdout",
          "text": [
            "To vote A press 1\n",
            "To vote B press 2\n",
            "To vote C press 3\n",
            "To vote none press 4\n",
            "Please make ur vote a :1\n",
            "Please make ur vote b :2\n",
            "Please make ur vote c :1\n",
            "Please make ur vote d :1\n",
            "Please make ur vote e :1\n",
            "Please make ur vote f :1\n",
            "Please make ur vote g :2\n",
            "Please make ur vote h :3\n",
            "Please make ur vote i :4\n",
            "Please make ur vote j :4\n",
            "The winner is A with 5 votes\n",
            "['a', 'c', 'd', 'e', 'f']\n",
            "The Runner is B with 2 votes\n",
            "['b', 'g']\n"
          ]
        }
      ]
    },
    {
      "cell_type": "code",
      "source": [
        "def inr_to_usd(amount):\n",
        "    return amount / 74.5\n",
        "\n",
        "def celsius_to_fahrenheit(celsius):\n",
        "    return (celsius * 9/5) + 32\n",
        "\n",
        "def calculate_bmi(weight_kg, height_m):\n",
        "    return weight_kg / (height_m ** 2)\n",
        "\n",
        "def calculate_simple_interest(principal, rate, time):\n",
        "    return (principal * rate * time) / 100\n",
        "\n",
        "if __name__ == \"__main__\":\n",
        "    print(\"Select an option:\")\n",
        "    print(\"1. India (Rupee) to US (Dollar) conversion\")\n",
        "    print(\"2. Celsius to Fahrenheit conversion\")\n",
        "    print(\"3. BMI Calculation\")\n",
        "    print(\"4. Simple Interest Calculation\")\n",
        "\n",
        "    option = int(input(\"Enter your choice (1/2/3/4): \"))\n",
        "\n",
        "    if option == 1:\n",
        "        inr_amount = float(input(\"Enter the amount in INR: \"))\n",
        "        usd_amount = inr_to_usd(inr_amount)\n",
        "        print(\"Amount in USD:\", usd_amount)\n",
        "    elif option == 2:\n",
        "        celsius_temp = float(input(\"Enter the temperature in Celsius: \"))\n",
        "        fahrenheit_temp = celsius_to_fahrenheit(celsius_temp)\n",
        "        print(\"Temperature in Fahrenheit:\", fahrenheit_temp)\n",
        "    elif option == 3:\n",
        "        weight = float(input(\"Enter your weight in kg: \"))\n",
        "        height = float(input(\"Enter your height in meters: \"))\n",
        "        bmi = calculate_bmi(weight, height)\n",
        "        print(\"Your BMI:\", bmi)\n",
        "    elif option == 4:\n",
        "        principal_amount = float(input(\"Enter the principal amount: \"))\n",
        "        rate_of_interest = float(input(\"Enter the rate of interest (%): \"))\n",
        "        time_period = float(input(\"Enter the time period (years): \"))\n",
        "        interest_amount = calculate_simple_interest(principal_amount, rate_of_interest, time_period)\n",
        "        print(\"Simple interest amount:\", interest_amount)\n",
        "    else:\n",
        "        print(\"Invalid option selected.\")\n"
      ],
      "metadata": {
        "colab": {
          "base_uri": "https://localhost:8080/"
        },
        "id": "mH71W5MQ4KIn",
        "outputId": "a6cbfecc-212c-4340-c5c2-e6f70ef68f57"
      },
      "execution_count": null,
      "outputs": [
        {
          "output_type": "stream",
          "name": "stdout",
          "text": [
            "Select an option:\n",
            "1. India (Rupee) to US (Dollar) conversion\n",
            "2. Celsius to Fahrenheit conversion\n",
            "3. BMI Calculation\n",
            "4. Simple Interest Calculation\n",
            "Enter your choice (1/2/3/4): 1\n",
            "Enter the amount in INR: 5000\n",
            "Amount in USD: 67.11409395973155\n"
          ]
        }
      ]
    },
    {
      "cell_type": "code",
      "source": [
        "i = [0, 1, 0, 1, 1, 0, 1, 0, 1, 0]\n",
        "zeros = i.count(0)\n",
        "ones = len(i) - zeros\n",
        "list = [0] * zeros + [1] * ones\n",
        "print(\"list:\", list)\n"
      ],
      "metadata": {
        "colab": {
          "base_uri": "https://localhost:8080/"
        },
        "id": "u-ZcxlyG5bvl",
        "outputId": "d1e2bf03-1a60-4e2e-912c-e466dc8f51ac"
      },
      "execution_count": null,
      "outputs": [
        {
          "output_type": "stream",
          "name": "stdout",
          "text": [
            "list: [0, 0, 0, 0, 0, 1, 1, 1, 1, 1]\n"
          ]
        }
      ]
    }
  ]
}